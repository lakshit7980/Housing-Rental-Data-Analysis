{
 "cells": [
  {
   "cell_type": "markdown",
   "id": "de48cf0f",
   "metadata": {},
   "source": [
    "# Preprocessing"
   ]
  },
  {
   "cell_type": "code",
   "execution_count": 1,
   "id": "e53fcd53",
   "metadata": {},
   "outputs": [],
   "source": [
    "# Import libraries\n",
    "import numpy as np\n",
    "import pandas as pd\n",
    "\n",
    "import matplotlib.pyplot as plt\n",
    "from matplotlib.pyplot import subplots, cm\n",
    "from ISLP.svm import plot as plot_svm\n",
    "from sklearn.svm import SVC\n",
    "from mlxtend.plotting import plot_decision_regions\n",
    "from sklearn.model_selection import train_test_split, GridSearchCV\n",
    "from sklearn.metrics import accuracy_score\n",
    "from sklearn.preprocessing import OneHotEncoder, StandardScaler\n",
    "from sklearn.feature_selection import SelectKBest, f_classif\n",
    "from sklearn.inspection import permutation_importance\n",
    "from sklearn.preprocessing import StandardScaler\n",
    "from sklearn.svm import SVC\n",
    "from sklearn.feature_selection import SelectKBest,mutual_info_classif\n",
    "from sklearn.pipeline import Pipeline\n",
    "from sklearn.metrics import confusion_matrix\n",
    "import seaborn as sns\n",
    "\n",
    "import warnings\n",
    "warnings.filterwarnings(\"ignore\")"
   ]
  },
  {
   "cell_type": "code",
   "execution_count": 2,
   "id": "1e51fff7",
   "metadata": {},
   "outputs": [],
   "source": [
    "data=pd.read_csv('/Users/lakshitgupta/Library/CloudStorage/OneDrive-SeattleUniversity/Quater3/Machine Learning-2/Written Homeworks/Housing.csv')"
   ]
  },
  {
   "cell_type": "code",
   "execution_count": 3,
   "id": "c5bbc633",
   "metadata": {},
   "outputs": [
    {
     "name": "stdout",
     "output_type": "stream",
     "text": [
      "    SERIAL  DENSITY  OWNERSHP  OWNERSHPD  COSTELEC  COSTGAS  COSTWATR  \\\n",
      "0  1371772    920.0         1         13      9990     9993       360   \n",
      "1  1371773   3640.9         2         22      1080     9993      1800   \n",
      "2  1371773   3640.9         2         22      1080     9993      1800   \n",
      "3  1371774     22.5         1         13       600     9993      9993   \n",
      "4  1371775   3710.4         2         22      3600     9993      9997   \n",
      "\n",
      "   COSTFUEL  HHINCOME   VALUEH  ...  NFAMS  NCOUPLES  PERNUM  PERWT  AGE  \\\n",
      "0      9993     75000   700000  ...      1         0       1     14   52   \n",
      "1      9993     13600  9999999  ...      2         0       1     83   22   \n",
      "2      9993     13600  9999999  ...      2         0       2    106   22   \n",
      "3      9993      7000   800000  ...      1         0       1     33   62   \n",
      "4      9993     50500  9999999  ...      1         0       1    297   50   \n",
      "\n",
      "   MARST  BIRTHYR  EDUC  EDUCD  INCTOT  \n",
      "0      6     1969     7     71   75000  \n",
      "1      6     1999    10    101    5600  \n",
      "2      6     1999     7     71    8000  \n",
      "3      4     1959     6     63    7000  \n",
      "4      3     1971     7     71   16000  \n",
      "\n",
      "[5 rows x 24 columns]\n"
     ]
    }
   ],
   "source": [
    "print(data.head())"
   ]
  },
  {
   "cell_type": "code",
   "execution_count": 4,
   "id": "e4a20a07",
   "metadata": {},
   "outputs": [
    {
     "data": {
      "text/plain": [
       "(75388, 24)"
      ]
     },
     "execution_count": 4,
     "metadata": {},
     "output_type": "execute_result"
    }
   ],
   "source": [
    "data.shape"
   ]
  },
  {
   "cell_type": "code",
   "execution_count": 5,
   "id": "69e5b2f3",
   "metadata": {},
   "outputs": [
    {
     "name": "stdout",
     "output_type": "stream",
     "text": [
      "Number of missing values: 0\n"
     ]
    }
   ],
   "source": [
    "missing_values = data.isna().sum().sum()\n",
    "print(f\"Number of missing values: {missing_values}\")"
   ]
  },
  {
   "cell_type": "code",
   "execution_count": 6,
   "id": "7df8f658",
   "metadata": {},
   "outputs": [],
   "source": [
    "data = data.drop(['OWNERSHPD','NCOUPLES','NFAMS','PERNUM', 'PERWT', 'BIRTHYR','EDUC','EDUCD','INCTOT','VALUEH'], axis=1)"
   ]
  },
  {
   "cell_type": "code",
   "execution_count": 7,
   "id": "c68197c4",
   "metadata": {},
   "outputs": [
    {
     "name": "stdout",
     "output_type": "stream",
     "text": [
      "(72631, 14)\n"
     ]
    }
   ],
   "source": [
    "data = data[~data['OWNERSHP'].isin([0])]\n",
    "data = data[~data['BEDROOMS'].isin([00])]\n",
    "data = data[~data['ROOMS'].isin([00])]\n",
    "data = data[~data['BUILTYR2'].isin([00])]\n",
    "data = data[~data['MARST'].isin([9])]\n",
    "data = data[~data['VEHICLES'].isin([0,9])]\n",
    "data = data[~data['AGE'].isin([999])]\n",
    "\n",
    "print(data.shape)"
   ]
  },
  {
   "cell_type": "code",
   "execution_count": 8,
   "id": "b89630e3",
   "metadata": {},
   "outputs": [
    {
     "name": "stdout",
     "output_type": "stream",
     "text": [
      "Index(['SERIAL', 'DENSITY', 'OWNERSHP', 'COSTELEC', 'COSTGAS', 'COSTWATR',\n",
      "       'COSTFUEL', 'HHINCOME', 'ROOMS', 'BUILTYR2', 'BEDROOMS', 'VEHICLES',\n",
      "       'AGE', 'MARST_Divorced', 'MARST_Married', 'MARST_Single'],\n",
      "      dtype='object')\n"
     ]
    }
   ],
   "source": [
    "data['MARST'] = data['MARST'].replace({1: 'Married', 2: 'Married', 3: 'Divorced', 4: 'Divorced', 5: 'Single', 6: 'Single'})\n",
    "data = pd.get_dummies(data, columns=['MARST'])\n",
    "print(data.columns)"
   ]
  },
  {
   "cell_type": "code",
   "execution_count": 9,
   "id": "8ed67f34",
   "metadata": {},
   "outputs": [
    {
     "name": "stdout",
     "output_type": "stream",
     "text": [
      "    SERIAL  DENSITY  OWNERSHP  COSTELEC  COSTGAS  COSTWATR  COSTFUEL  \\\n",
      "0  1371772    920.0         1      9990     9993       360      9993   \n",
      "1  1371773   3640.9         2      1080     9993      1800      9993   \n",
      "2  1371773   3640.9         2      1080     9993      1800      9993   \n",
      "3  1371774     22.5         1       600     9993      9993      9993   \n",
      "4  1371775   3710.4         2      3600     9993      9997      9993   \n",
      "\n",
      "   HHINCOME  ROOMS  BUILTYR2  BEDROOMS  VEHICLES  AGE  MARST_Divorced  \\\n",
      "0     75000      7         7         4         2   52               0   \n",
      "1     13600      6         4         4         2   22               0   \n",
      "2     13600      6         4         4         2   22               0   \n",
      "3      7000      5         5         4         2   62               1   \n",
      "4     50500      4         6         3         2   50               1   \n",
      "\n",
      "   MARST_Married  MARST_Single  \n",
      "0              0             1  \n",
      "1              0             1  \n",
      "2              0             1  \n",
      "3              0             0  \n",
      "4              0             0  \n"
     ]
    }
   ],
   "source": [
    "print(data.head())"
   ]
  },
  {
   "cell_type": "code",
   "execution_count": 10,
   "id": "7788fff6",
   "metadata": {},
   "outputs": [
    {
     "data": {
      "text/plain": [
       "(29049, 15)"
      ]
     },
     "execution_count": 10,
     "metadata": {},
     "output_type": "execute_result"
    }
   ],
   "source": [
    "data_sorted = data.sort_values(['SERIAL', 'AGE'], ascending=[True, False])\n",
    "data_sorted = data_sorted.groupby('SERIAL').first().reset_index()\n",
    "data = data_sorted.drop(columns=['SERIAL'])\n",
    "data.shape"
   ]
  },
  {
   "cell_type": "code",
   "execution_count": 11,
   "id": "5eeba8f8",
   "metadata": {},
   "outputs": [
    {
     "data": {
      "text/plain": [
       "Index(['DENSITY', 'OWNERSHP', 'COSTELEC', 'COSTGAS', 'COSTWATR', 'COSTFUEL',\n",
       "       'HHINCOME', 'ROOMS', 'BUILTYR2', 'BEDROOMS', 'VEHICLES', 'AGE',\n",
       "       'MARST_Divorced', 'MARST_Married', 'MARST_Single'],\n",
       "      dtype='object')"
      ]
     },
     "execution_count": 11,
     "metadata": {},
     "output_type": "execute_result"
    }
   ],
   "source": [
    "data.columns"
   ]
  },
  {
   "cell_type": "code",
   "execution_count": 12,
   "id": "02ec4680",
   "metadata": {},
   "outputs": [],
   "source": [
    "X = data[['DENSITY', 'COSTELEC', 'COSTGAS', 'COSTWATR', 'COSTFUEL',\n",
    "          'HHINCOME', 'ROOMS', 'BUILTYR2', 'BEDROOMS', \n",
    "          'VEHICLES', 'AGE', 'MARST_Divorced', 'MARST_Married', 'MARST_Single']]\n",
    "y = data['OWNERSHP']\n",
    "\n",
    "X_train, X_test, y_train, y_test = train_test_split(X, y, test_size=0.3, random_state=123)\n",
    "\n",
    "scaler = StandardScaler()\n",
    "X_train_scaled = scaler.fit_transform(X_train)\n",
    "X_test_scaled = scaler.transform(X_test)"
   ]
  },
  {
   "cell_type": "markdown",
   "id": "679b34ed",
   "metadata": {},
   "source": [
    "# Linear model"
   ]
  },
  {
   "cell_type": "code",
   "execution_count": 13,
   "id": "87fc0b71",
   "metadata": {},
   "outputs": [
    {
     "name": "stdout",
     "output_type": "stream",
     "text": [
      "Cost: 0.01, Accuracy: 84.50%\n",
      "Cost: 0.1, Accuracy: 84.57%\n",
      "Cost: 1, Accuracy: 84.57%\n",
      "Cost: 10, Accuracy: 84.56%\n",
      "Cost: 100, Accuracy: 84.57%\n",
      "Cost: 250, Accuracy: 84.57%\n",
      "Cost: 500, Accuracy: 84.54%\n"
     ]
    },
    {
     "data": {
      "image/png": "[encoded data removed]",
      "text/plain": [
       "<Figure size 1000x600 with 1 Axes>"
      ]
     },
     "metadata": {},
     "output_type": "display_data"
    }
   ],
   "source": [
    "cost_values = [0.01, 0.1, 1, 10, 100, 250, 500]\n",
    "\n",
    "costs = []\n",
    "accuracies = []\n",
    "\n",
    "for c in cost_values:\n",
    "    # Initialize the SVM classifier with the specified cost value\n",
    "    svm_classifier = SVC(kernel='linear', C=c)\n",
    "    \n",
    "    try:\n",
    "        \n",
    "        svm_classifier.fit(X_train_scaled, y_train)\n",
    "        y_pred = svm_classifier.predict(X_test_scaled)\n",
    "        accuracy = accuracy_score(y_test, y_pred)\n",
    "        costs.append(c)\n",
    "        accuracies.append(accuracy)\n",
    "        \n",
    "        print(f\"Cost: {c}, Accuracy: {accuracy*100:.2f}%\")\n",
    "    except Exception as e:\n",
    "        print(f\"Error occurred for cost {c}: {e}\")\n",
    "\n",
    "plt.figure(figsize=(10, 6))\n",
    "plt.plot(costs, accuracies, marker='o')\n",
    "plt.title('Accuracy vs Cost Value')\n",
    "plt.xlabel('Cost Value')\n",
    "plt.ylabel('Accuracy')\n",
    "plt.xscale('log')\n",
    "plt.grid(True)\n",
    "plt.show()\n"
   ]
  },
  {
   "cell_type": "code",
   "execution_count": null,
   "id": "7edc81d0",
   "metadata": {},
   "outputs": [],
   "source": []
  },
  {
   "cell_type": "code",
   "execution_count": 14,
   "id": "afd9f55f",
   "metadata": {},
   "outputs": [
    {
     "name": "stdout",
     "output_type": "stream",
     "text": [
      "Best parameters found by GridSearchCV:\n",
      "{'C': 500}\n"
     ]
    }
   ],
   "source": []
  },
  {
   "cell_type": "code",
   "execution_count": 15,
   "id": "0b8b09a5",
   "metadata": {},
   "outputs": [
    {
     "name": "stdout",
     "output_type": "stream",
     "text": [
      "Accuracy of the best model: 84.54%\n"
     ]
    }
   ],
   "source": []
  },
  {
   "cell_type": "code",
   "execution_count": 18,
   "id": "d7533a62",
   "metadata": {},
   "outputs": [
    {
     "name": "stdout",
     "output_type": "stream",
     "text": [
      "Cost values and accuracies for each cost:\n",
      "Cost: 0.01, Accuracy: 84.28%\n",
      "Cost: 0.1, Accuracy: 84.31%\n",
      "Cost: 1, Accuracy: 84.30%\n",
      "Cost: 10, Accuracy: 84.30%\n",
      "Cost: 100, Accuracy: 84.29%\n",
      "Cost: 250, Accuracy: 84.31%\n",
      "Cost: 500, Accuracy: 84.33%\n",
      "\n",
      "Best parameters found by GridSearchCV:\n",
      "{'C': 500}\n",
      "\n",
      "Accuracy of the best model: 84.54%\n"
     ]
    }
   ],
   "source": [
    "param_grid = {'C': [0.01, 0.1, 1, 10, 100, 250, 500]}\n",
    "costs = param_grid['C']\n",
    "accuracies = []\n",
    "\n",
    "grid_search = GridSearchCV(SVC(kernel='linear'), param_grid, cv=5, scoring='accuracy', n_jobs=-1)\n",
    "grid_search.fit(X_train_scaled, y_train)\n",
    "\n",
    "print(\"Cost values and accuracies for each cost:\")\n",
    "for cost, accuracy in zip(costs, grid_search.cv_results_['mean_test_score']):\n",
    "    print(f\"Cost: {cost}, Accuracy: {accuracy*100:.2f}%\")\n",
    "\n",
    "print(\"\\nBest parameters found by GridSearchCV:\")\n",
    "print(grid_search.best_params_)\n",
    "\n",
    "# Get the best model from the grid search\n",
    "best_model = grid_search.best_estimator_\n",
    "y_pred = best_model.predict(X_test_scaled)\n",
    "\n",
    "accuracy = accuracy_score(y_test, y_pred)\n",
    "\n",
    "print(f\"\\nAccuracy of the best model: {accuracy*100:.2f}%\")"
   ]
  },
  {
   "cell_type": "code",
   "execution_count": 19,
   "id": "8f03e4b0",
   "metadata": {},
   "outputs": [
    {
     "data": {
      "image/png": "[encoded data removed]",
      "text/plain": [
       "<Figure size 1000x600 with 1 Axes>"
      ]
     },
     "metadata": {},
     "output_type": "display_data"
    }
   ],
   "source": [
    "mean_test_scores = np.array(grid_search.cv_results_['mean_test_score'])\n",
    "\n",
    "# Plot accuracy against C values\n",
    "plt.figure(figsize=(10, 6))\n",
    "plt.plot(param_grid['C'], mean_test_scores, marker='o')\n",
    "plt.title('Accuracy vs C Values')\n",
    "plt.xlabel('C')\n",
    "plt.ylabel('Accuracy')\n",
    "plt.xscale('log')\n",
    "plt.grid(True)\n",
    "plt.show()"
   ]
  },
  {
   "cell_type": "code",
   "execution_count": 20,
   "id": "4aa9f5ce",
   "metadata": {},
   "outputs": [
    {
     "name": "stdout",
     "output_type": "stream",
     "text": [
      "Accuracy with selected features: 84.11%\n",
      "         Feature  Importance\n",
      "7            AGE    0.051597\n",
      "5       BEDROOMS    0.033184\n",
      "2       COSTWATR    0.017778\n",
      "4          ROOMS    0.009030\n",
      "8  MARST_Married    0.006189\n",
      "6       VEHICLES    0.005309\n",
      "3       HHINCOME    0.003974\n",
      "1        COSTGAS    0.002647\n",
      "0       COSTELEC    0.002058\n",
      "9   MARST_Single   -0.000153\n"
     ]
    },
    {
     "data": {
      "image/png": "[encoded data removed]",
      "text/plain": [
       "<Figure size 1000x600 with 1 Axes>"
      ]
     },
     "metadata": {},
     "output_type": "display_data"
    }
   ],
   "source": [
    "selector = SelectKBest(score_func=mutual_info_classif, k=10)\n",
    "selector.fit(X_train_scaled, y_train)\n",
    "selected_features = selector.get_support(indices=True)\n",
    "selected_feature_names = X.columns[selected_features]\n",
    "\n",
    "svm_selected = SVC(kernel='linear', C=500, random_state=123)\n",
    "svm_selected.fit(X_train_scaled[:, selected_features], y_train)\n",
    "\n",
    "accuracy = svm_selected.score(X_test_scaled[:, selected_features], y_test)\n",
    "print(\"Accuracy with selected features: {:.2f}%\".format(accuracy * 100))\n",
    "\n",
    "# Permutation importance\n",
    "perm_importance = permutation_importance(svm_selected, X_test_scaled[:, selected_features], y_test, n_repeats=30, random_state=123)\n",
    "\n",
    "# Feature importances\n",
    "importance_df = pd.DataFrame({'Feature': selected_feature_names, 'Importance': perm_importance['importances_mean']})\n",
    "importance_df.sort_values(by='Importance', ascending=False, inplace=True)\n",
    "print(importance_df)\n",
    "\n",
    "plt.figure(figsize=(10, 6))\n",
    "sns.barplot(data=importance_df, x='Importance', y='Feature', palette='viridis')\n",
    "plt.xlabel('Permutation Importance')\n",
    "plt.ylabel('Feature')\n",
    "plt.title('Feature Importance (Permutation)')\n",
    "plt.show()"
   ]
  },
  {
   "cell_type": "code",
   "execution_count": null,
   "id": "9ae177e4",
   "metadata": {},
   "outputs": [],
   "source": [
    "X_top = data[['AGE', 'BEDROOMS']]\n",
    "y = data['OWNERSHP']\n",
    "X_trainTop, X_testTop, y_trainTop, y_testTop =  train_test_split(X_top, y, test_size = 0.3,random_state = 123)\n",
    "svm_classifier = SVC(kernel='linear', C=500, cache_size=1000, verbose=True, max_iter=10000, random_state=123)\n",
    "svm_classifier.fit(X_trainTop, y_trainTop)\n",
    "y_pred = svm_classifier.predict(X_testTop)\n",
    "accuracy = accuracy_score(y_testTop, y_pred)\n",
    "print(f\"Accuracy with top 2 predictors: {accuracy*100:.2f}%\")"
   ]
  },
  {
   "cell_type": "code",
   "execution_count": null,
   "id": "884752fa",
   "metadata": {},
   "outputs": [],
   "source": [
    "X_top = data[['AGE', 'BEDROOMS']]\n",
    " \n",
    "y = data['OWNERSHP']\n",
    "X_trainTop, X_testTop, y_trainTop, y_testTop =  train_test_split(X_top, y, test_size = 0.3\n",
    "                                                 ,random_state = 123)\n",
    " \n",
    "scaler = StandardScaler().fit(X_trainTop)\n",
    "X_trainScaledTop = scaler.transform(X_trainTop)\n",
    "X_testNewScaledTop = scaler.transform(X_testTop)\n",
    "linearsvc_top = SVC(kernel='linear', C=500, cache_size=1000, verbose=True, max_iter=10000, random_state=1)\n",
    "linearsvc_top.fit(X_trainScaledTop, y_trainTop)\n",
    " \n",
    "fig, ax = subplots(figsize=(8,8))\n",
    "plot_svm(X_trainScaledTop,\n",
    "         y_trainTop,\n",
    "         linearsvc_top,\n",
    "         ax=ax)\n",
    "ax.set_xlabel('AGE')\n",
    "ax.set_ylabel('BEDROOMS')\n",
    "plt.title('SVM Decision Boundary with Top 2 Predictor Variables')\n",
    "plt.show()\n",
    " "
   ]
  },
  {
   "cell_type": "code",
   "execution_count": null,
   "id": "7ece0484",
   "metadata": {},
   "outputs": [],
   "source": []
  },
  {
   "cell_type": "code",
   "execution_count": null,
   "id": "f29a9abc",
   "metadata": {},
   "outputs": [],
   "source": []
  },
  {
   "cell_type": "markdown",
   "id": "c7eca3a8",
   "metadata": {},
   "source": [
    "# Radial model"
   ]
  },
  {
   "cell_type": "code",
   "execution_count": null,
   "id": "35431468",
   "metadata": {},
   "outputs": [],
   "source": [
    "param_grid = {'C': [0.1, 1, 10, 100, 1000], 'gamma': [0.5, 1, 2, 3, 4]}\n",
    "\n",
    "# GridSearchCV\n",
    "grid_search = GridSearchCV(SVC(kernel='rbf'), param_grid, cv=5, scoring='accuracy',n_jobs=-1)\n",
    "\n",
    "grid_search.fit(X_train_scaled, y_train)\n",
    "print(\"Best parameters found by GridSearchCV:\")\n",
    "print(grid_search.best_params_)"
   ]
  },
  {
   "cell_type": "code",
   "execution_count": null,
   "id": "4e340391",
   "metadata": {},
   "outputs": [],
   "source": [
    "# Get the best model \n",
    "best_model = grid_search.best_estimator_\n",
    "y_pred = best_model.predict(X_test_scaled)\n",
    "accuracy = accuracy_score(y_test, y_pred)\n",
    "\n",
    "print(f\"Accuracy of the best model: {accuracy*100:.2f}%\")\n"
   ]
  },
  {
   "cell_type": "code",
   "execution_count": null,
   "id": "1b140975",
   "metadata": {},
   "outputs": [],
   "source": [
    "mean_test_scores = np.array(grid_search.cv_results_['mean_test_score']).reshape(len(param_grid['C']), len(param_grid['gamma']))\n",
    "\n",
    "# Plot a heatmap of accuracy for different combinations of C and gamma\n",
    "plt.figure(figsize=(10, 6))\n",
    "sns.heatmap(mean_test_scores, annot=True, fmt='.3f', cmap=\"viridis\", xticklabels=param_grid['gamma'], yticklabels=param_grid['C'])\n",
    "plt.title('Accuracy vs C and Gamma Values')\n",
    "plt.xlabel('Gamma')\n",
    "plt.ylabel('C')\n",
    "plt.show()"
   ]
  },
  {
   "cell_type": "code",
   "execution_count": null,
   "id": "0e72f836",
   "metadata": {},
   "outputs": [],
   "source": [
    "selector = SelectKBest(score_func=mutual_info_classif, k=10)\n",
    "selector.fit(X_train_scaled, y_train)\n",
    "selected_features = selector.get_support(indices=True)\n",
    "selected_feature_names = X.columns[selected_features]\n",
    "\n",
    "# Train SVM classifier with selected features\n",
    "svm_selected = SVC(kernel='rbf', C=1, gamma=0.5, random_state=123)\n",
    "svm_selected.fit(X_train_scaled[:, selected_features], y_train)\n",
    "\n",
    "accuracy = svm_selected.score(X_test_scaled[:, selected_features], y_test)\n",
    "print(\"Accuracy with selected features: {:.2f}%\".format(accuracy * 100))\n",
    "\n",
    "# Permutation importance\n",
    "perm_importance = permutation_importance(svm_selected, X_test_scaled[:, selected_features], y_test, n_repeats=30, random_state=42)\n",
    "\n",
    "# Feature importances\n",
    "importance_df = pd.DataFrame({'Feature': selected_feature_names, 'Importance': perm_importance['importances_mean']})\n",
    "importance_df.sort_values(by='Importance', ascending=False, inplace=True)\n",
    "print(importance_df)\n",
    "\n",
    "# Plotting\n",
    "plt.figure(figsize=(10, 6))\n",
    "sns.barplot(data=importance_df, x='Importance', y='Feature', palette='viridis')\n",
    "plt.xlabel('Permutation Importance')\n",
    "plt.ylabel('Feature')\n",
    "plt.title('Feature Importance (Permutation)')\n",
    "plt.show()"
   ]
  },
  {
   "cell_type": "code",
   "execution_count": null,
   "id": "c8c2da21",
   "metadata": {},
   "outputs": [],
   "source": [
    "X_top = data[['AGE', 'BEDROOMS']]\n",
    "y = data['OWNERSHP']\n",
    "X_trainTop, X_testTop, y_trainTop, y_testTop =  train_test_split(X_top, y, test_size = 0.3,random_state = 123)\n",
    "svm_classifier = SVC(kernel='rbf', C=1, gamma=0.5, cache_size=1000, verbose=True, max_iter=10000, random_state=123)\n",
    "svm_classifier.fit(X_trainTop, y_trainTop)\n",
    "y_pred = svm_classifier.predict(X_testTop)\n",
    "accuracy = accuracy_score(y_testTop, y_pred)\n",
    "print(f\"Accuracy with top 2 predictors: {accuracy*100:.2f}%\")"
   ]
  },
  {
   "cell_type": "code",
   "execution_count": null,
   "id": "743845c9",
   "metadata": {},
   "outputs": [],
   "source": [
    "X_top = data[['BEDROOMS', 'AGE']]\n",
    " \n",
    "y = data['OWNERSHP']\n",
    "#spliting the data into train and test\n",
    "X_trainTop, X_testTop, y_trainTop, y_testTop =  train_test_split(X_top, y, test_size = 0.3\n",
    "                                                 ,random_state = 123)\n",
    " \n",
    "scaler = StandardScaler().fit(X_trainTop)\n",
    "X_trainScaledTop = scaler.transform(X_trainTop)\n",
    "X_testNewScaledTop = scaler.transform(X_testTop)\n",
    "radsvc_top = SVC(kernel='rbf', C=1, gamma=0.5, cache_size=1000, verbose=True, max_iter=10000, random_state=123)\n",
    "radsvc_top.fit(X_trainScaledTop, y_trainTop)\n",
    " \n",
    "    \n",
    "fig, ax = subplots(figsize=(8,8))\n",
    "plot_svm(X_trainScaledTop,\n",
    "         y_trainTop,\n",
    "         radsvc_top,\n",
    "         ax=ax)\n",
    "ax.set_xlabel('BEDROOMS')\n",
    "ax.set_ylabel('AGE')\n",
    "plt.title('SVM Decision Boundary with Top 2 Predictor Variables')\n",
    "\n",
    "\n",
    "plt.show()"
   ]
  },
  {
   "cell_type": "code",
   "execution_count": null,
   "id": "b66a14f6",
   "metadata": {},
   "outputs": [],
   "source": []
  },
  {
   "cell_type": "code",
   "execution_count": null,
   "id": "6365ed0a",
   "metadata": {},
   "outputs": [],
   "source": []
  },
  {
   "cell_type": "markdown",
   "id": "24e4e316",
   "metadata": {},
   "source": [
    "# Polynomial model"
   ]
  },
  {
   "cell_type": "code",
   "execution_count": null,
   "id": "5ce22b2c",
   "metadata": {},
   "outputs": [],
   "source": [
    "param_grid = {'C': [0.1, 1, 10, 100, 1000], 'degree': [2, 3, 4]}\n",
    "\n",
    "grid_search = GridSearchCV(SVC(kernel='poly'), param_grid, cv=5, scoring='accuracy',n_jobs=-1)\n",
    "grid_search.fit(X_train_scaled, y_train)\n",
    "\n",
    "print(\"Best parameters found by GridSearchCV:\")\n",
    "print(grid_search.best_params_)"
   ]
  },
  {
   "cell_type": "code",
   "execution_count": null,
   "id": "40711f43",
   "metadata": {},
   "outputs": [],
   "source": [
    "\n",
    "best_model = grid_search.best_estimator_\n",
    "y_pred = best_model.predict(X_test_scaled)\n",
    "\n",
    "accuracy = accuracy_score(y_test, y_pred)\n",
    "\n",
    "print(f\"Accuracy of the best model: {accuracy*100:.2f}%\")"
   ]
  },
  {
   "cell_type": "code",
   "execution_count": null,
   "id": "8f920eec",
   "metadata": {},
   "outputs": [],
   "source": [
    "mean_test_scores = np.array(grid_search.cv_results_['mean_test_score']).reshape(len(param_grid['C']), len(param_grid['degree']))\n",
    "\n",
    "# Plot a heatmap of accuracy for different combinations of C and gamma\n",
    "plt.figure(figsize=(10, 6))\n",
    "sns.heatmap(mean_test_scores, annot=True, fmt='.3f', cmap=\"viridis\", xticklabels=param_grid['degree'], yticklabels=param_grid['C'])\n",
    "plt.title('Accuracy vs C and Degree Values')\n",
    "plt.xlabel('Degree')\n",
    "plt.ylabel('C')\n",
    "plt.show()"
   ]
  },
  {
   "cell_type": "code",
   "execution_count": null,
   "id": "c561ca51",
   "metadata": {},
   "outputs": [],
   "source": [
    "selector = SelectKBest(score_func=mutual_info_classif, k=10)\n",
    "selector.fit(X_train_scaled, y_train)\n",
    "selected_features = selector.get_support(indices=True)\n",
    "selected_feature_names = X.columns[selected_features]\n",
    "\n",
    "# Train SVM classifier with selected features\n",
    "svm_selected = SVC(kernel='poly', C=100, degree=3, random_state=123)\n",
    "svm_selected.fit(X_train_scaled[:, selected_features], y_train)\n",
    "\n",
    "# Evaluate the model on the testing data\n",
    "accuracy = svm_selected.score(X_test_scaled[:, selected_features], y_test)\n",
    "print(\"Accuracy with selected features: {:.2f}%\".format(accuracy * 100))\n",
    "\n",
    "# Permutation importance\n",
    "perm_importance = permutation_importance(svm_selected, X_test_scaled[:, selected_features], y_test, n_repeats=30, random_state=42)\n",
    "\n",
    "# Feature importances\n",
    "importance_df = pd.DataFrame({'Feature': selected_feature_names, 'Importance': perm_importance['importances_mean']})\n",
    "importance_df.sort_values(by='Importance', ascending=False, inplace=True)\n",
    "print(importance_df)\n",
    "\n",
    "plt.figure(figsize=(10, 6))\n",
    "sns.barplot(data=importance_df, x='Importance', y='Feature', palette='viridis')\n",
    "plt.xlabel('Permutation Importance')\n",
    "plt.ylabel('Feature')\n",
    "plt.title('Feature Importance (Permutation)')\n",
    "plt.show()"
   ]
  },
  {
   "cell_type": "code",
   "execution_count": null,
   "id": "9133fdd5",
   "metadata": {},
   "outputs": [],
   "source": [
    "X_top = data[['AGE', 'COSTWATR']]\n",
    "y = data['OWNERSHP']\n",
    "X_trainTop, X_testTop, y_trainTop, y_testTop =  train_test_split(X_top, y, test_size = 0.3,random_state = 123)\n",
    "svm_classifier = SVC(kernel='poly', C=100,degree=3, cache_size=1000, verbose=True, max_iter=10000, random_state=123)\n",
    "svm_classifier.fit(X_trainTop, y_trainTop)\n",
    "y_pred = svm_classifier.predict(X_testTop)\n",
    "accuracy = accuracy_score(y_testTop, y_pred)\n",
    "print(f\"Accuracy with top 2 predictors: {accuracy*100:.2f}%\")"
   ]
  },
  {
   "cell_type": "code",
   "execution_count": null,
   "id": "65eed9e8",
   "metadata": {},
   "outputs": [],
   "source": [
    "X_top = data[['AGE', 'COSTWATR']]\n",
    " \n",
    "y = data['OWNERSHP']\n",
    "#spliting the data into train and test\n",
    "X_trainTop, X_testTop, y_trainTop, y_testTop =  train_test_split(X_top, y, test_size = 0.3\n",
    "                                                 ,random_state = 123)\n",
    " \n",
    "scaler = StandardScaler().fit(X_trainTop)\n",
    "X_trainScaledTop = scaler.transform(X_trainTop)\n",
    "X_testNewScaledTop = scaler.transform(X_testTop)\n",
    "polysvc_top = SVC(kernel='poly', C=100,degree=3, cache_size=1000, verbose=True, max_iter=10000, random_state=123)\n",
    "polysvc_top.fit(X_trainScaledTop, y_trainTop)\n",
    " \n",
    "    \n",
    "fig, ax = subplots(figsize=(8,8))\n",
    "plot_svm(X_trainScaledTop,\n",
    "         y_trainTop,\n",
    "         polysvc_top,\n",
    "         ax=ax)\n",
    "ax.set_xlabel('AGE')\n",
    "ax.set_ylabel('COSTWATR')\n",
    "plt.title('SVM Decision Boundary with Top 2 Predictor Variables')\n",
    "plt.show()"
   ]
  },
  {
   "cell_type": "code",
   "execution_count": null,
   "id": "762f8073",
   "metadata": {},
   "outputs": [],
   "source": []
  },
  {
   "cell_type": "code",
   "execution_count": null,
   "id": "e86d5629",
   "metadata": {},
   "outputs": [],
   "source": []
  },
  {
   "cell_type": "code",
   "execution_count": null,
   "id": "012be96f",
   "metadata": {},
   "outputs": [],
   "source": []
  }
 ],
 "metadata": {
  "kernelspec": {
   "display_name": "Python 3 (ipykernel)",
   "language": "python",
   "name": "python3"
  },
  "language_info": {
   "codemirror_mode": {
    "name": "ipython",
    "version": 3
   },
   "file_extension": ".py",
   "mimetype": "text/x-python",
   "name": "python",
   "nbconvert_exporter": "python",
   "pygments_lexer": "ipython3",
   "version": "3.11.5"
  }
 },
 "nbformat": 4,
 "nbformat_minor": 5
}
